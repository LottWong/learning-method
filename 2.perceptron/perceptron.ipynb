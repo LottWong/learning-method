{
 "cells": [
  {
   "cell_type": "code",
   "execution_count": 1,
   "metadata": {},
   "outputs": [],
   "source": [
    "import numpy as np\n",
    "import matplotlib.pyplot as plt\n",
    "%matplotlib inline"
   ]
  },
  {
   "cell_type": "code",
   "execution_count": 2,
   "metadata": {},
   "outputs": [],
   "source": [
    "class MyPerceptron:\n",
    "    def __init__(self):\n",
    "        self.w=None\n",
    "        self.b=0\n",
    "        self.l_rate=0.1\n",
    "\n",
    "    def fit(self,X_train,y_train):\n",
    "        self.w=np.zeros(X_train.shape[1])\n",
    "        i=0\n",
    "        while i<X_train.shape[0]:\n",
    "            X=X_train[i]\n",
    "            y=y_train[i]\n",
    "            # loss = y*(wx+b), loss≤0 update w,b\n",
    "            if y*(np.dot(self.w, X) + self.b) <= 0:\n",
    "                self.w = self.w + self.l_rate * np.dot(y, X)\n",
    "                self.b = self.b + self.l_rate * y\n",
    "                i=0 #如果是误判点,从头进行检测\n",
    "            else:\n",
    "                i+=1"
   ]
  },
  {
   "cell_type": "code",
   "execution_count": 3,
   "metadata": {},
   "outputs": [],
   "source": [
    "def draw(X,w,b):\n",
    "    #生产分离超平面上的两点\n",
    "    X_new=np.array([[0], [6]])\n",
    "    y_predict=-(b+w[0]*X_new)/w[1]\n",
    "    plt.plot(X[:2,0],X[:2,1],\"g*\",label=\"1\")\n",
    "    plt.plot(X[2:,0], X[2:,0], \"rx\",label=\"-1\")\n",
    "    plt.plot(X_new,y_predict,\"b-\")\n",
    "    plt.axis([0,6,0,6])\n",
    "    plt.xlabel('x1')\n",
    "    plt.ylabel('x2')\n",
    "    plt.legend()\n",
    "    plt.show()"
   ]
  },
  {
   "cell_type": "code",
   "execution_count": 4,
   "metadata": {},
   "outputs": [
    {
     "name": "stdout",
     "output_type": "stream",
     "text": [
      "[0.1 0.1]\n",
      "-0.30000000000000004\n"
     ]
    },
    {
     "data": {
      "image/png": "[encoded data removed]",
      "text/plain": [
       "<Figure size 432x288 with 1 Axes>"
      ]
     },
     "metadata": {
      "needs_background": "light"
     },
     "output_type": "display_data"
    }
   ],
   "source": [
    "# test\n",
    "X_train=np.array([[3,3],[4,3],[1,1]])\n",
    "y_train=np.array([1,1,-1])\n",
    "perceptron=MyPerceptron()\n",
    "perceptron.fit(X_train,y_train)\n",
    "print(perceptron.w)\n",
    "print(perceptron.b)\n",
    "draw(X_train,perceptron.w,perceptron.b)"
   ]
  },
  {
   "cell_type": "code",
   "execution_count": 5,
   "metadata": {},
   "outputs": [],
   "source": [
    "# sklearn模型\n",
    "from sklearn.linear_model import Perceptron"
   ]
  },
  {
   "cell_type": "code",
   "execution_count": 6,
   "metadata": {},
   "outputs": [],
   "source": [
    "X_train = np.array([[3, 3], [4, 3], [1, 1]])\n",
    "y = np.array([1, 1, -1])"
   ]
  },
  {
   "cell_type": "code",
   "execution_count": 7,
   "metadata": {},
   "outputs": [
    {
     "name": "stdout",
     "output_type": "stream",
     "text": [
      "w: [[1. 0.]] \n",
      " b: [-2.] \n",
      " n_iter: 9\n",
      "correct rate:100%\n"
     ]
    }
   ],
   "source": [
    "perceptron=Perceptron()\n",
    "perceptron.fit(X_train,y)\n",
    "print(\"w:\",perceptron.coef_,\"\\n\",\"b:\",perceptron.intercept_,\"\\n\",\"n_iter:\",perceptron.n_iter_)\n",
    "\n",
    "res=perceptron.score(X_train,y)\n",
    "print(\"correct rate:{:.0%}\".format(res))"
   ]
  }
 ],
 "metadata": {
  "kernelspec": {
   "display_name": "Python 3",
   "language": "python",
   "name": "python3"
  },
  "language_info": {
   "codemirror_mode": {
    "name": "ipython",
    "version": 3
   },
   "file_extension": ".py",
   "mimetype": "text/x-python",
   "name": "python",
   "nbconvert_exporter": "python",
   "pygments_lexer": "ipython3",
   "version": "3.7.0"
  }
 },
 "nbformat": 4,
 "nbformat_minor": 2
}
